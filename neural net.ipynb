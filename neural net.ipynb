{
 "cells": [
  {
   "cell_type": "code",
   "execution_count": 53,
   "metadata": {},
   "outputs": [],
   "source": [
    "from __future__ import absolute_import\n",
    "#from __future__ import absolute_import means that if you import string,\n",
    "#Python will always look for a top-level string module, rather than current_package.string.\n",
    "from __future__ import print_function\n",
    "#This ensures compatibility in Python versions 3.x and 2.x.\n",
    "#In 2.x, print “x” was allowed, 3.x accepts only print(“x”)\n",
    "import tensorflow as tf\n",
    "import numpy as np\n",
    "import pandas as pd"
   ]
  },
  {
   "cell_type": "code",
   "execution_count": 54,
   "metadata": {},
   "outputs": [],
   "source": [
    "data_file_name = \"bbdata.txt\"\n",
    "# name of the file which contains our dataset\n",
    "column_names = \"id,clump_thickness,unif_cell_size,unif_cell_shape,marg_adhesion,single_epith_cell_size,bare_nuclei,bland_chrom,norm_nucleoli,mitoses,class\"\n",
    "# column names in a comma seperated way\n",
    "\n",
    "#we are opening the file which contain dataset and putting name of columns in first row\n",
    "with open(data_file_name, \"r+\") as f:\n",
    "    #putting column names on the first row.\n",
    "    datainfile = f.read()\n",
    "    f.seek(0, 0)\n",
    "    f.write(column_names.rstrip('\\r\\n') + '\\n' + datainfile)"
   ]
  },
  {
   "cell_type": "code",
   "execution_count": 55,
   "metadata": {},
   "outputs": [],
   "source": [
    "# now we are reading the above csv file using pandas dataframe\n",
    "df = pd.read_csv(data_file_name)"
   ]
  },
  {
   "cell_type": "code",
   "execution_count": 56,
   "metadata": {},
   "outputs": [],
   "source": [
    "df.replace('?', np.nan, inplace = True)\n",
    "# the above code will replace all missing values with nan( standard notation for missing values)\n",
    "df.dropna(inplace = True)\n",
    "# here we are dropping rows which contains Nan values as those will be of no use to us."
   ]
  },
  {
   "cell_type": "code",
   "execution_count": 57,
   "metadata": {},
   "outputs": [],
   "source": [
    "df.drop(['id'], axis = 1, inplace = True)\n",
    "# here we are dropping column name id "
   ]
  },
  {
   "cell_type": "code",
   "execution_count": 62,
   "metadata": {},
   "outputs": [],
   "source": [
    "df['class'].replace(2, 0, inplace = True)\n",
    "df['class'].replace(4, 1, inplace = True)\n",
    "# here we are replacing 2 with 0 and 4 with 1\n",
    "# 0 and 1 stands for cancer typer M = malignant, B = benign"
   ]
  },
  {
   "cell_type": "code",
   "execution_count": 64,
   "metadata": {},
   "outputs": [],
   "source": [
    "df.to_csv(\"combined_data.csv\", index = False)\n",
    "#saving the resultant dataset into a csv file for later use"
   ]
  },
  {
   "cell_type": "code",
   "execution_count": 66,
   "metadata": {},
   "outputs": [
    {
     "name": "stdout",
     "output_type": "stream",
     "text": [
      "0      0\n",
      "1      0\n",
      "2      0\n",
      "3      0\n",
      "4      0\n",
      "5      1\n",
      "6      0\n",
      "7      0\n",
      "8      0\n",
      "9      0\n",
      "10     0\n",
      "11     0\n",
      "12     1\n",
      "13     0\n",
      "14     1\n",
      "15     1\n",
      "16     0\n",
      "17     0\n",
      "18     1\n",
      "19     0\n",
      "20     1\n",
      "21     1\n",
      "22     0\n",
      "24     0\n",
      "25     1\n",
      "26     0\n",
      "27     0\n",
      "28     0\n",
      "29     0\n",
      "30     0\n",
      "      ..\n",
      "669    1\n",
      "670    1\n",
      "671    0\n",
      "672    0\n",
      "673    0\n",
      "674    0\n",
      "675    0\n",
      "676    0\n",
      "677    0\n",
      "678    0\n",
      "679    0\n",
      "680    1\n",
      "681    1\n",
      "682    0\n",
      "683    0\n",
      "684    0\n",
      "685    0\n",
      "686    0\n",
      "687    0\n",
      "688    0\n",
      "689    0\n",
      "690    0\n",
      "691    1\n",
      "692    0\n",
      "693    0\n",
      "694    0\n",
      "695    0\n",
      "696    1\n",
      "697    1\n",
      "698    1\n",
      "Name: class, Length: 683, dtype: int64\n"
     ]
    }
   ],
   "source": [
    "print(df[\"class\"])\n",
    "# class values "
   ]
  },
  {
   "cell_type": "code",
   "execution_count": 204,
   "metadata": {},
   "outputs": [
    {
     "name": "stdout",
     "output_type": "stream",
     "text": [
      "[_RealValuedColumn(column_name='', dimension=2, default_value=None, dtype=tf.float32, normalizer=None)]\n",
      "(546, 10)\n",
      "(137, 10)\n",
      "       0  1       2          3    4    5    6    7    8    9\n",
      "418  545  9  benign  malignant  NaN  NaN  NaN  NaN  NaN  NaN\n",
      "87     4  1       1          1    2    1    3    1    1    0\n",
      "390    3  1       1          1    2    4    1    1    1    0\n",
      "541    4  3       1          1    2    1    4    8    1    0\n",
      "379    3  1       1          1    2    1    2    1    1    0\n",
      "       0  1       2          3    4    5    6    7    8    9\n",
      "537  136  9  benign  malignant  NaN  NaN  NaN  NaN  NaN  NaN\n",
      "653    5  7       4          1    6    1    7   10    3    1\n",
      "199    1  1       1          1    2    1    3    1    1    0\n",
      "450    4  1       1          1    2    1    1    1    1    0\n",
      "162   10  8      10         10    6    1    3    1   10    1\n"
     ]
    }
   ],
   "source": [
    "import numpy as np\n",
    "\n",
    "# Specify that all features have real-value data\n",
    "feature_columns = [tf.contrib.layers.real_valued_column(\"\", dimension=2)]\n",
    "print (feature_columns)\n",
    "\n",
    "dataset = pd.read_csv('combined_data.csv',header=None)\n",
    "# Y=dataset['class']\n",
    "# dataset.drop(\"class\",1,inplace=True)\n",
    "x=dataset\n",
    "x.drop(x.index[0], inplace=True)\n",
    "#x.loc[0] = [x.shape[0],x.shape[1],\"benign\",\"malignant\",np.nan,np.nan,np.nan,np.nan,np.nan,np.nan]\n",
    "\n",
    "indices = np.random.permutation(x.shape[0])\n",
    "k=.8*x.shape[0]\n",
    "k=int(k)\n",
    "training_idx, test_idx = indices[:k], indices[k:]\n",
    "#print(a)\n",
    "training, test = x.loc[training_idx,:], x.loc[test_idx,:]\n",
    "print (training.shape)\n",
    "print (test.shape)\n",
    "training.loc[indices[0]] = [training.shape[0]-1,training.shape[1]-1,\"benign\",\"malignant\",np.nan,np.nan,np.nan,np.nan,np.nan,np.nan]\n",
    "test.loc[indices[k]] = [test.shape[0]-1,test.shape[1]-1,\"benign\",\"malignant\",np.nan,np.nan,np.nan,np.nan,np.nan,np.nan]\n",
    "#training.reset_index(drop=True, inplace=True)\n",
    "print(training.head())\n",
    "print(test.head())\n",
    "test.to_csv(\"test_new.csv\", header=False,index = False)\n",
    "training.to_csv(\"train_new.csv\",header=False, index = False)\n",
    "\n"
   ]
  },
  {
   "cell_type": "code",
   "execution_count": 210,
   "metadata": {},
   "outputs": [],
   "source": [
    "training_data = \"train_bc.csv\"\n",
    "testing_data = \"test_new.csv\"\n",
    "\n",
    "# Load datasets.\n",
    "training_set = tf.contrib.learn.datasets.base.load_csv_with_header(filename=training_data,\n",
    "                                                       target_dtype=np.int,\n",
    "                                                       features_dtype=np.float32,\n",
    "                                                       target_column=-1)\n",
    "test_set = tf.contrib.learn.datasets.base.load_csv_with_header(filename=testing_data,\n",
    "                                                   target_dtype=np.int,\n",
    "                                                   features_dtype=np.float32,\n",
    "                                                   target_column=-1)"
   ]
  },
  {
   "cell_type": "code",
   "execution_count": 211,
   "metadata": {},
   "outputs": [
    {
     "name": "stdout",
     "output_type": "stream",
     "text": [
      "INFO:tensorflow:Using default config.\n",
      "INFO:tensorflow:Using config: {'_task_type': None, '_task_id': 0, '_cluster_spec': <tensorflow.python.training.server_lib.ClusterSpec object at 0x0000021911CCD160>, '_master': '', '_num_ps_replicas': 0, '_num_worker_replicas': 0, '_environment': 'local', '_is_chief': True, '_evaluation_master': '', '_train_distribute': None, '_eval_distribute': None, '_device_fn': None, '_tf_config': gpu_options {\n",
      "  per_process_gpu_memory_fraction: 1.0\n",
      "}\n",
      ", '_tf_random_seed': None, '_save_summary_steps': 100, '_save_checkpoints_secs': 600, '_log_step_count_steps': 100, '_protocol': None, '_session_config': None, '_save_checkpoints_steps': None, '_keep_checkpoint_max': 5, '_keep_checkpoint_every_n_hours': 10000, '_model_dir': '/tmp/cancer_model'}\n"
     ]
    }
   ],
   "source": [
    "# Build 3 layer DNN with 10, 20, 10 units respectively.\n",
    "classifier = tf.contrib.learn.DNNClassifier(feature_columns=feature_columns,\n",
    "                                            hidden_units=[10, 20, 10],\n",
    "                                            n_classes=2,\n",
    "                                            model_dir=\"/tmp/cancer_model\")"
   ]
  },
  {
   "cell_type": "code",
   "execution_count": 212,
   "metadata": {},
   "outputs": [
    {
     "name": "stdout",
     "output_type": "stream",
     "text": [
      "WARNING:tensorflow:Casting <dtype: 'int32'> labels to bool.\n",
      "WARNING:tensorflow:Casting <dtype: 'int32'> labels to bool.\n",
      "WARNING:tensorflow:Trapezoidal rule is known to produce incorrect PR-AUCs; please switch to \"careful_interpolation\" instead.\n",
      "WARNING:tensorflow:Trapezoidal rule is known to produce incorrect PR-AUCs; please switch to \"careful_interpolation\" instead.\n",
      "INFO:tensorflow:Create CheckpointSaverHook.\n",
      "INFO:tensorflow:Graph was finalized.\n",
      "INFO:tensorflow:Restoring parameters from /tmp/cancer_model\\model.ckpt-4000\n",
      "INFO:tensorflow:Running local_init_op.\n",
      "INFO:tensorflow:Done running local_init_op.\n",
      "INFO:tensorflow:Saving checkpoints for 4000 into /tmp/cancer_model\\model.ckpt.\n",
      "INFO:tensorflow:loss = 0.022666171, step = 4001\n",
      "INFO:tensorflow:global_step/sec: 255.798\n",
      "INFO:tensorflow:loss = 0.022182217, step = 4101 (0.394 sec)\n",
      "INFO:tensorflow:global_step/sec: 319.059\n",
      "INFO:tensorflow:loss = 0.02162641, step = 4201 (0.277 sec)\n",
      "INFO:tensorflow:global_step/sec: 367.634\n",
      "INFO:tensorflow:loss = 0.02116517, step = 4301 (0.271 sec)\n",
      "INFO:tensorflow:global_step/sec: 353.412\n",
      "INFO:tensorflow:loss = 0.020651203, step = 4401 (0.284 sec)\n",
      "INFO:tensorflow:global_step/sec: 335.623\n",
      "INFO:tensorflow:loss = 0.02024334, step = 4501 (0.299 sec)\n",
      "INFO:tensorflow:global_step/sec: 336.754\n",
      "INFO:tensorflow:loss = 0.01973633, step = 4601 (0.296 sec)\n",
      "INFO:tensorflow:global_step/sec: 373.19\n",
      "INFO:tensorflow:loss = 0.019286858, step = 4701 (0.329 sec)\n",
      "INFO:tensorflow:global_step/sec: 274.999\n",
      "INFO:tensorflow:loss = 0.018835986, step = 4801 (0.304 sec)\n",
      "INFO:tensorflow:global_step/sec: 344.882\n",
      "INFO:tensorflow:loss = 0.018395407, step = 4901 (0.289 sec)\n",
      "INFO:tensorflow:global_step/sec: 370.429\n",
      "INFO:tensorflow:loss = 0.017913552, step = 5001 (0.269 sec)\n",
      "INFO:tensorflow:global_step/sec: 375.999\n",
      "INFO:tensorflow:loss = 0.017634703, step = 5101 (0.267 sec)\n",
      "INFO:tensorflow:global_step/sec: 371.825\n",
      "INFO:tensorflow:loss = 0.017114596, step = 5201 (0.268 sec)\n",
      "INFO:tensorflow:global_step/sec: 341.351\n",
      "INFO:tensorflow:loss = 0.01680758, step = 5301 (0.294 sec)\n",
      "INFO:tensorflow:global_step/sec: 295.904\n",
      "INFO:tensorflow:loss = 0.016176185, step = 5401 (0.338 sec)\n",
      "INFO:tensorflow:global_step/sec: 328.999\n",
      "INFO:tensorflow:loss = 0.01591018, step = 5501 (0.304 sec)\n",
      "INFO:tensorflow:global_step/sec: 332.278\n",
      "INFO:tensorflow:loss = 0.01541886, step = 5601 (0.301 sec)\n",
      "INFO:tensorflow:global_step/sec: 365.02\n",
      "INFO:tensorflow:loss = 0.014989895, step = 5701 (0.274 sec)\n",
      "INFO:tensorflow:global_step/sec: 295.031\n",
      "INFO:tensorflow:loss = 0.014884754, step = 5801 (0.338 sec)\n",
      "INFO:tensorflow:global_step/sec: 369.036\n",
      "INFO:tensorflow:loss = 0.01439074, step = 5901 (0.271 sec)\n",
      "INFO:tensorflow:Saving checkpoints for 6000 into /tmp/cancer_model\\model.ckpt.\n",
      "INFO:tensorflow:Loss for final step: 0.014282167.\n"
     ]
    },
    {
     "data": {
      "text/plain": [
       "DNNClassifier(params={'head': <tensorflow.contrib.learn.python.learn.estimators.head._BinaryLogisticHead object at 0x0000021911CCD6D8>, 'hidden_units': [10, 20, 10], 'feature_columns': (_RealValuedColumn(column_name='', dimension=2, default_value=None, dtype=tf.float32, normalizer=None),), 'optimizer': None, 'activation_fn': <function relu at 0x000002190CA559D8>, 'dropout': None, 'gradient_clip_norm': None, 'embedding_lr_multipliers': None, 'input_layer_min_slice_size': None})"
      ]
     },
     "execution_count": 212,
     "metadata": {},
     "output_type": "execute_result"
    }
   ],
   "source": [
    "classifier.fit(x = training_set.data,\n",
    "               y = training_set.target,\n",
    "               steps = 2000)"
   ]
  },
  {
   "cell_type": "code",
   "execution_count": 213,
   "metadata": {},
   "outputs": [
    {
     "name": "stdout",
     "output_type": "stream",
     "text": [
      "WARNING:tensorflow:From <ipython-input-213-8f6049490e93>:2: calling BaseEstimator.evaluate (from tensorflow.contrib.learn.python.learn.estimators.estimator) with x is deprecated and will be removed after 2016-12-01.\n",
      "Instructions for updating:\n",
      "Estimator is decoupled from Scikit Learn interface by moving into\n",
      "separate class SKCompat. Arguments x, y and batch_size are only\n",
      "available in the SKCompat class, Estimator will only accept input_fn.\n",
      "Example conversion:\n",
      "  est = Estimator(...) -> est = SKCompat(Estimator(...))\n",
      "WARNING:tensorflow:From <ipython-input-213-8f6049490e93>:2: calling BaseEstimator.evaluate (from tensorflow.contrib.learn.python.learn.estimators.estimator) with y is deprecated and will be removed after 2016-12-01.\n",
      "Instructions for updating:\n",
      "Estimator is decoupled from Scikit Learn interface by moving into\n",
      "separate class SKCompat. Arguments x, y and batch_size are only\n",
      "available in the SKCompat class, Estimator will only accept input_fn.\n",
      "Example conversion:\n",
      "  est = Estimator(...) -> est = SKCompat(Estimator(...))\n",
      "WARNING:tensorflow:Casting <dtype: 'int32'> labels to bool.\n",
      "WARNING:tensorflow:Casting <dtype: 'int32'> labels to bool.\n",
      "WARNING:tensorflow:Trapezoidal rule is known to produce incorrect PR-AUCs; please switch to \"careful_interpolation\" instead.\n",
      "WARNING:tensorflow:Trapezoidal rule is known to produce incorrect PR-AUCs; please switch to \"careful_interpolation\" instead.\n",
      "INFO:tensorflow:Starting evaluation at 2019-03-31-18:07:11\n",
      "INFO:tensorflow:Graph was finalized.\n",
      "INFO:tensorflow:Restoring parameters from /tmp/cancer_model\\model.ckpt-6000\n",
      "INFO:tensorflow:Running local_init_op.\n",
      "INFO:tensorflow:Done running local_init_op.\n",
      "INFO:tensorflow:Finished evaluation at 2019-03-31-18:07:12\n",
      "INFO:tensorflow:Saving dict for global step 6000: accuracy = 0.99264705, accuracy/baseline_label_mean = 0.34558824, accuracy/threshold_0.500000_mean = 0.99264705, auc = 1.0, auc_precision_recall = 1.0, global_step = 6000, labels/actual_label_mean = 0.34558824, labels/prediction_mean = 0.34193426, loss = 0.018246632, precision/positive_threshold_0.500000_mean = 0.9791667, recall/positive_threshold_0.500000_mean = 1.0\n",
      "Accuracy: 0.992647\n"
     ]
    }
   ],
   "source": [
    "accuracy_score = classifier.evaluate(x = test_set.data,\n",
    "                                     y = test_set.target)[\"accuracy\"]\n",
    "print('Accuracy: {0:f}'.format(accuracy_score))"
   ]
  },
  {
   "cell_type": "code",
   "execution_count": 214,
   "metadata": {},
   "outputs": [
    {
     "name": "stdout",
     "output_type": "stream",
     "text": [
      "INFO:tensorflow:Graph was finalized.\n",
      "INFO:tensorflow:Restoring parameters from /tmp/cancer_model\\model.ckpt-6000\n",
      "INFO:tensorflow:Running local_init_op.\n",
      "INFO:tensorflow:Done running local_init_op.\n",
      "New Samples, Class Predictions:    [1, 0]\n",
      "\n"
     ]
    }
   ],
   "source": [
    "# Classify two new cancer tumor samples.\n",
    "def new_samples():\n",
    "  return np.array([[5, 10, 8, 4, 7, 4, 8, 11, 2],\n",
    "                   [5, 1, 1, 1, 1, 1, 1, 1, 2]], dtype=np.float32)\n",
    "\n",
    "predictions = list(classifier.predict(input_fn=new_samples))\n",
    "\n",
    "print(\n",
    "      \"New Samples, Class Predictions:    {}\\n\"\n",
    "      .format(predictions))"
   ]
  },
  {
   "cell_type": "code",
   "execution_count": null,
   "metadata": {},
   "outputs": [],
   "source": []
  }
 ],
 "metadata": {
  "kernelspec": {
   "display_name": "Python 3",
   "language": "python",
   "name": "python3"
  },
  "language_info": {
   "codemirror_mode": {
    "name": "ipython",
    "version": 3
   },
   "file_extension": ".py",
   "mimetype": "text/x-python",
   "name": "python",
   "nbconvert_exporter": "python",
   "pygments_lexer": "ipython3",
   "version": "3.6.8"
  }
 },
 "nbformat": 4,
 "nbformat_minor": 2
}
